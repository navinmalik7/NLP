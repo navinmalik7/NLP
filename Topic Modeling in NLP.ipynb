{
 "cells": [
  {
   "cell_type": "code",
   "execution_count": 1,
   "metadata": {},
   "outputs": [
    {
     "name": "stderr",
     "output_type": "stream",
     "text": [
      "[nltk_data] Downloading package stopwords to\n",
      "[nltk_data]     C:\\Users\\navin\\AppData\\Roaming\\nltk_data...\n",
      "[nltk_data]   Package stopwords is already up-to-date!\n",
      "[nltk_data] Downloading package punkt to\n",
      "[nltk_data]     C:\\Users\\navin\\AppData\\Roaming\\nltk_data...\n",
      "[nltk_data]   Package punkt is already up-to-date!\n"
     ]
    },
    {
     "name": "stdout",
     "output_type": "stream",
     "text": [
      "(0, '0.053*\"new\" + 0.053*\"planet\" + 0.053*\"outside\" + 0.053*\"discovered\" + 0.053*\"solar\"')\n",
      "(1, '0.074*\"new\" + 0.044*\"saw\" + 0.044*\"rise\" + 0.044*\"today\" + 0.044*\"stock\"')\n"
     ]
    }
   ],
   "source": [
    "import nltk\n",
    "import gensim\n",
    "from gensim import corpora\n",
    "from nltk.tokenize import word_tokenize\n",
    "from nltk.corpus import stopwords\n",
    "\n",
    "# Sample text documents\n",
    "documents = [\n",
    "    \"The economy is struggling with inflation and high interest rates.\",\n",
    "    \"The government passed a new healthcare reform bill.\",\n",
    "    \"Scientists discovered a new planet outside the solar system.\",\n",
    "    \"The stock market saw a significant rise today.\",\n",
    "    \"NASA plans a new mission to Mars next year.\"\n",
    "]\n",
    "\n",
    "# Tokenization & Stopword Removal\n",
    "nltk.download(\"stopwords\")\n",
    "nltk.download(\"punkt\")\n",
    "stop_words = set(stopwords.words(\"english\"))\n",
    "processed_docs = [[word.lower() for word in word_tokenize(doc) if word.isalpha() and word.lower() not in stop_words] for doc in documents]\n",
    "\n",
    "# Create a dictionary and corpus\n",
    "dictionary = corpora.Dictionary(processed_docs)\n",
    "corpus = [dictionary.doc2bow(text) for text in processed_docs]\n",
    "\n",
    "# Train LDA Model\n",
    "lda_model = gensim.models.LdaModel(corpus, num_topics=2, id2word=dictionary, passes=10)\n",
    "\n",
    "# Display topics\n",
    "topics = lda_model.print_topics(num_words=5)\n",
    "for topic in topics:\n",
    "    print(topic)\n"
   ]
  },
  {
   "cell_type": "code",
   "execution_count": 2,
   "metadata": {},
   "outputs": [
    {
     "name": "stdout",
     "output_type": "stream",
     "text": [
      "Topic 0:  ['government', 'reform', 'passed', 'healthcare', 'new']\n",
      "Topic 1:  ['economy', 'rates', 'inflation', 'struggling', 'high']\n"
     ]
    }
   ],
   "source": [
    "from sklearn.decomposition import TruncatedSVD\n",
    "from sklearn.feature_extraction.text import TfidfVectorizer\n",
    "\n",
    "# Convert text into TF-IDF vectors\n",
    "vectorizer = TfidfVectorizer(stop_words=\"english\")\n",
    "X = vectorizer.fit_transform(documents)\n",
    "\n",
    "# Apply LSA\n",
    "lsa = TruncatedSVD(n_components=2, random_state=42)\n",
    "lsa_matrix = lsa.fit_transform(X)\n",
    "\n",
    "# Print topics\n",
    "terms = vectorizer.get_feature_names_out()\n",
    "for i, topic in enumerate(lsa.components_):\n",
    "    print(f\"Topic {i}: \", [terms[i] for i in topic.argsort()[-5:]])\n"
   ]
  }
 ],
 "metadata": {
  "kernelspec": {
   "display_name": "pyspark_env",
   "language": "python",
   "name": "python3"
  },
  "language_info": {
   "codemirror_mode": {
    "name": "ipython",
    "version": 3
   },
   "file_extension": ".py",
   "mimetype": "text/x-python",
   "name": "python",
   "nbconvert_exporter": "python",
   "pygments_lexer": "ipython3",
   "version": "3.8.20"
  }
 },
 "nbformat": 4,
 "nbformat_minor": 2
}
