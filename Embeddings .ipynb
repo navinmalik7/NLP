{
 "cells": [
  {
   "cell_type": "code",
   "execution_count": 2,
   "metadata": {},
   "outputs": [
    {
     "name": "stdout",
     "output_type": "stream",
     "text": [
      "cat: [1. 0. 0.]\n",
      "dog: [0. 1. 0.]\n",
      "mouse: [0. 0. 1.]\n"
     ]
    },
    {
     "name": "stderr",
     "output_type": "stream",
     "text": [
      "c:\\Users\\navin\\anaconda3\\envs\\pyspark_env\\lib\\site-packages\\sklearn\\preprocessing\\_encoders.py:972: FutureWarning: `sparse` was renamed to `sparse_output` in version 1.2 and will be removed in 1.4. `sparse_output` is ignored unless you leave `sparse` to its default value.\n",
      "  warnings.warn(\n"
     ]
    }
   ],
   "source": [
    "from sklearn.preprocessing import OneHotEncoder\n",
    "import numpy as np\n",
    "# Sample words\n",
    "words = np.array([[\"cat\"], [\"dog\"], [\"mouse\"]])\n",
    "\n",
    "# One-Hot Encoding\n",
    "encoder = OneHotEncoder(sparse=False)\n",
    "one_hot_vectors = encoder.fit_transform(words)\n",
    "\n",
    "# Display results\n",
    "for word, vector in zip(words, one_hot_vectors):\n",
    "    print(f\"{word[0]}: {vector}\")"
   ]
  },
  {
   "cell_type": "code",
   "execution_count": 5,
   "metadata": {},
   "outputs": [
    {
     "name": "stdout",
     "output_type": "stream",
     "text": [
      "Vector for 'cats':\n",
      "[ 0.07380505 -0.01533471 -0.04536613  0.06554051 -0.0486016  -0.01816018\n",
      "  0.0287658   0.00991874 -0.08285215 -0.09448818]\n"
     ]
    }
   ],
   "source": [
    "from gensim.models import Word2Vec\n",
    "from nltk.tokenize import word_tokenize\n",
    "# Sample corpus\n",
    "sentences = [\n",
    "\"I love cats\",\n",
    "\"Cats are amazing animals\",\n",
    "\"Dogs are friendly too\",\n",
    "\"I love my dog\"\n",
    "]\n",
    "\n",
    "# Tokenize sentences\n",
    "tokenized_sentences = [word_tokenize(sentence.lower()) for sentence in sentences]\n",
    "\n",
    "# Train Word2Vec model\n",
    "model = Word2Vec(sentences=tokenized_sentences, vector_size=10, window=3, min_count=1, workers=4)\n",
    "\n",
    "# Get vector for \"cat\"\n",
    "word_vector = model.wv[\"cats\"]\n",
    "print(f\"Vector for 'cats':\\n{word_vector}\")"
   ]
  }
 ],
 "metadata": {
  "kernelspec": {
   "display_name": "pyspark_env",
   "language": "python",
   "name": "python3"
  },
  "language_info": {
   "codemirror_mode": {
    "name": "ipython",
    "version": 3
   },
   "file_extension": ".py",
   "mimetype": "text/x-python",
   "name": "python",
   "nbconvert_exporter": "python",
   "pygments_lexer": "ipython3",
   "version": "3.8.20"
  }
 },
 "nbformat": 4,
 "nbformat_minor": 2
}
