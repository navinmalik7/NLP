{
 "cells": [
  {
   "cell_type": "markdown",
   "metadata": {},
   "source": [
    "Zero-Shot Learning for Text Classification (Using BART)"
   ]
  },
  {
   "cell_type": "code",
   "execution_count": 2,
   "metadata": {},
   "outputs": [
    {
     "name": "stdout",
     "output_type": "stream",
     "text": [
      "Requirement already satisfied: transformers in c:\\users\\navin\\anaconda3\\envs\\pyspark_env\\lib\\site-packages (4.46.3)\n",
      "Requirement already satisfied: torch in c:\\users\\navin\\anaconda3\\envs\\pyspark_env\\lib\\site-packages (2.4.1)\n",
      "Requirement already satisfied: filelock in c:\\users\\navin\\anaconda3\\envs\\pyspark_env\\lib\\site-packages (from transformers) (3.13.1)\n",
      "Requirement already satisfied: huggingface-hub<1.0,>=0.23.2 in c:\\users\\navin\\anaconda3\\envs\\pyspark_env\\lib\\site-packages (from transformers) (0.24.6)\n",
      "Requirement already satisfied: numpy>=1.17 in c:\\users\\navin\\anaconda3\\envs\\pyspark_env\\lib\\site-packages (from transformers) (1.24.3)\n",
      "Requirement already satisfied: packaging>=20.0 in c:\\users\\navin\\anaconda3\\envs\\pyspark_env\\lib\\site-packages (from transformers) (24.2)\n",
      "Requirement already satisfied: pyyaml>=5.1 in c:\\users\\navin\\anaconda3\\envs\\pyspark_env\\lib\\site-packages (from transformers) (6.0.2)\n",
      "Requirement already satisfied: regex!=2019.12.17 in c:\\users\\navin\\anaconda3\\envs\\pyspark_env\\lib\\site-packages (from transformers) (2024.11.6)\n",
      "Requirement already satisfied: requests in c:\\users\\navin\\anaconda3\\envs\\pyspark_env\\lib\\site-packages (from transformers) (2.32.3)\n",
      "Requirement already satisfied: tokenizers<0.21,>=0.20 in c:\\users\\navin\\anaconda3\\envs\\pyspark_env\\lib\\site-packages (from transformers) (0.20.3)\n",
      "Requirement already satisfied: safetensors>=0.4.1 in c:\\users\\navin\\anaconda3\\envs\\pyspark_env\\lib\\site-packages (from transformers) (0.4.5)\n",
      "Requirement already satisfied: tqdm>=4.27 in c:\\users\\navin\\anaconda3\\envs\\pyspark_env\\lib\\site-packages (from transformers) (4.66.5)\n",
      "Requirement already satisfied: typing-extensions>=4.8.0 in c:\\users\\navin\\anaconda3\\envs\\pyspark_env\\lib\\site-packages (from torch) (4.12.2)\n",
      "Requirement already satisfied: sympy in c:\\users\\navin\\anaconda3\\envs\\pyspark_env\\lib\\site-packages (from torch) (1.13.3)\n",
      "Requirement already satisfied: networkx in c:\\users\\navin\\anaconda3\\envs\\pyspark_env\\lib\\site-packages (from torch) (3.1)\n",
      "Requirement already satisfied: jinja2 in c:\\users\\navin\\anaconda3\\envs\\pyspark_env\\lib\\site-packages (from torch) (3.1.4)\n",
      "Requirement already satisfied: fsspec in c:\\users\\navin\\anaconda3\\envs\\pyspark_env\\lib\\site-packages (from torch) (2025.2.0)\n",
      "Requirement already satisfied: colorama in c:\\users\\navin\\anaconda3\\envs\\pyspark_env\\lib\\site-packages (from tqdm>=4.27->transformers) (0.4.6)\n",
      "Requirement already satisfied: MarkupSafe>=2.0 in c:\\users\\navin\\anaconda3\\envs\\pyspark_env\\lib\\site-packages (from jinja2->torch) (2.1.3)\n",
      "Requirement already satisfied: charset-normalizer<4,>=2 in c:\\users\\navin\\anaconda3\\envs\\pyspark_env\\lib\\site-packages (from requests->transformers) (3.3.2)\n",
      "Requirement already satisfied: idna<4,>=2.5 in c:\\users\\navin\\anaconda3\\envs\\pyspark_env\\lib\\site-packages (from requests->transformers) (3.10)\n",
      "Requirement already satisfied: urllib3<3,>=1.21.1 in c:\\users\\navin\\anaconda3\\envs\\pyspark_env\\lib\\site-packages (from requests->transformers) (1.26.20)\n",
      "Requirement already satisfied: certifi>=2017.4.17 in c:\\users\\navin\\anaconda3\\envs\\pyspark_env\\lib\\site-packages (from requests->transformers) (2024.8.30)\n",
      "Requirement already satisfied: mpmath<1.4,>=1.1.0 in c:\\users\\navin\\anaconda3\\envs\\pyspark_env\\lib\\site-packages (from sympy->torch) (1.3.0)\n",
      "Note: you may need to restart the kernel to use updated packages.\n"
     ]
    }
   ],
   "source": [
    "%pip install transformers torch"
   ]
  },
  {
   "cell_type": "code",
   "execution_count": 1,
   "metadata": {},
   "outputs": [
    {
     "name": "stderr",
     "output_type": "stream",
     "text": [
      "c:\\Users\\navin\\anaconda3\\envs\\pyspark_env\\lib\\site-packages\\tqdm\\auto.py:21: TqdmWarning: IProgress not found. Please update jupyter and ipywidgets. See https://ipywidgets.readthedocs.io/en/stable/user_install.html\n",
      "  from .autonotebook import tqdm as notebook_tqdm\n",
      "c:\\Users\\navin\\anaconda3\\envs\\pyspark_env\\lib\\site-packages\\huggingface_hub\\file_download.py:159: UserWarning: `huggingface_hub` cache-system uses symlinks by default to efficiently store duplicated files but your machine does not support them in C:\\Users\\navin\\.cache\\huggingface\\hub\\models--facebook--bart-large-mnli. Caching files will still work but in a degraded version that might require more space on your disk. This warning can be disabled by setting the `HF_HUB_DISABLE_SYMLINKS_WARNING` environment variable. For more details, see https://huggingface.co/docs/huggingface_hub/how-to-cache#limitations.\n",
      "To support symlinks on Windows, you either need to activate Developer Mode or to run Python as an administrator. In order to see activate developer mode, see this article: https://docs.microsoft.com/en-us/windows/apps/get-started/enable-your-device-for-development\n",
      "  warnings.warn(message)\n"
     ]
    },
    {
     "name": "stdout",
     "output_type": "stream",
     "text": [
      "{'sequence': 'I love this product! The battery lasts forever.', 'labels': ['positive', 'neutral', 'negative'], 'scores': [0.9514915943145752, 0.035168640315532684, 0.013339711353182793]}\n"
     ]
    }
   ],
   "source": [
    "from transformers import pipeline\n",
    "\n",
    "# Load zero-shot classification pipeline\n",
    "classifier = pipeline(\"zero-shot-classification\", model=\"facebook/bart-large-mnli\")\n",
    "\n",
    "# Input text\n",
    "text = \"I love this product! The battery lasts forever.\"\n",
    "\n",
    "# Candidate labels (categories to classify into)\n",
    "labels = [\"positive\", \"negative\", \"neutral\"]\n",
    "\n",
    "# Perform classification\n",
    "result = classifier(text, labels)\n",
    "\n",
    "# Print the results\n",
    "print(result)\n"
   ]
  },
  {
   "cell_type": "markdown",
   "metadata": {},
   "source": [
    "Few-Shot Learning for Text Classification (Using GPT-style Prompting)"
   ]
  },
  {
   "cell_type": "code",
   "execution_count": 2,
   "metadata": {},
   "outputs": [
    {
     "name": "stderr",
     "output_type": "stream",
     "text": [
      "Truncation was not explicitly activated but `max_length` is provided a specific value, please use `truncation=True` to explicitly truncate examples to max length. Defaulting to 'longest_first' truncation strategy. If you encode pairs of sequences (GLUE-style) with the tokenizer you can select this strategy more precisely by providing a specific strategy to `truncation`.\n",
      "Setting `pad_token_id` to `eos_token_id`:None for open-end generation.\n"
     ]
    },
    {
     "name": "stdout",
     "output_type": "stream",
     "text": [
      "Classify the sentiment of the following review:\n",
      "\n",
      "Example 1:\n",
      "Review: \"The movie was absolutely fantastic!\" → Sentiment: Positive\n",
      "\n",
      "Example 2:\n",
      "Review: \"The food was terrible and overpriced.\" → Sentiment: Negative\n",
      "\n",
      "Now classify this review:\n",
      "Review: \"The service was great, but the food was average.\" → Sentiment:\n",
      "\n",
      "Example 3:\n",
      "\n",
      "Review: \"The movie really is boring.\" → Sentiment:\n",
      "\n",
      "Example\n"
     ]
    }
   ],
   "source": [
    "from transformers import pipeline\n",
    "\n",
    "# Load GPT-based model for text generation\n",
    "generator = pipeline(\"text-generation\", model=\"gpt2\")\n",
    "\n",
    "# Few-shot prompt with examples\n",
    "prompt = \"\"\"Classify the sentiment of the following review:\n",
    "\n",
    "Example 1:\n",
    "Review: \"The movie was absolutely fantastic!\" → Sentiment: Positive\n",
    "\n",
    "Example 2:\n",
    "Review: \"The food was terrible and overpriced.\" → Sentiment: Negative\n",
    "\n",
    "Now classify this review:\n",
    "Review: \"The service was great, but the food was average.\" → Sentiment:\n",
    "\"\"\"\n",
    "\n",
    "# Generate response\n",
    "response = generator(prompt, max_length=100, num_return_sequences=1)\n",
    "\n",
    "# Print the result\n",
    "print(response[0][\"generated_text\"])\n"
   ]
  }
 ],
 "metadata": {
  "kernelspec": {
   "display_name": "pyspark_env",
   "language": "python",
   "name": "python3"
  },
  "language_info": {
   "codemirror_mode": {
    "name": "ipython",
    "version": 3
   },
   "file_extension": ".py",
   "mimetype": "text/x-python",
   "name": "python",
   "nbconvert_exporter": "python",
   "pygments_lexer": "ipython3",
   "version": "3.8.20"
  }
 },
 "nbformat": 4,
 "nbformat_minor": 2
}
