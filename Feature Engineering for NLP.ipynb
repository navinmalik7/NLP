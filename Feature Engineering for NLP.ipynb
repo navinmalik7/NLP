{
 "cells": [
  {
   "cell_type": "code",
   "execution_count": 1,
   "metadata": {},
   "outputs": [
    {
     "name": "stdout",
     "output_type": "stream",
     "text": [
      "Feature Names: ['amazing' 'deep' 'is' 'learning' 'love' 'nlp']\n",
      "BoW Matrix:\n",
      " [[0 0 0 0 1 1]\n",
      " [1 0 1 0 0 1]\n",
      " [0 1 0 1 1 0]]\n"
     ]
    }
   ],
   "source": [
    "from sklearn.feature_extraction.text import CountVectorizer\n",
    "\n",
    "# Sample text data\n",
    "corpus = [\"I love NLP\", \"NLP is amazing\", \"I love deep learning\"]\n",
    "\n",
    "# Convert text to a Bag of Words model\n",
    "vectorizer = CountVectorizer()\n",
    "X = vectorizer.fit_transform(corpus)\n",
    "\n",
    "# Convert sparse matrix to an array\n",
    "print(\"Feature Names:\", vectorizer.get_feature_names_out())\n",
    "print(\"BoW Matrix:\\n\", X.toarray())\n"
   ]
  },
  {
   "cell_type": "code",
   "execution_count": 2,
   "metadata": {},
   "outputs": [
    {
     "name": "stdout",
     "output_type": "stream",
     "text": [
      "TF-IDF Feature Names: ['amazing' 'deep' 'is' 'learning' 'love' 'nlp']\n",
      "TF-IDF Matrix:\n",
      " [[0.         0.         0.         0.         0.70710678 0.70710678]\n",
      " [0.62276601 0.         0.62276601 0.         0.         0.4736296 ]\n",
      " [0.         0.62276601 0.         0.62276601 0.4736296  0.        ]]\n"
     ]
    }
   ],
   "source": [
    "from sklearn.feature_extraction.text import TfidfVectorizer\n",
    "\n",
    "# Convert text to TF-IDF vectors\n",
    "tfidf_vectorizer = TfidfVectorizer()\n",
    "X_tfidf = tfidf_vectorizer.fit_transform(corpus)\n",
    "\n",
    "print(\"TF-IDF Feature Names:\", tfidf_vectorizer.get_feature_names_out())\n",
    "print(\"TF-IDF Matrix:\\n\", X_tfidf.toarray())\n"
   ]
  },
  {
   "cell_type": "code",
   "execution_count": 3,
   "metadata": {},
   "outputs": [
    {
     "name": "stdout",
     "output_type": "stream",
     "text": [
      "N-Grams: ['and' 'and deep' 'deep' 'deep learning' 'learning' 'love' 'love nlp'\n",
      " 'nlp' 'nlp and']\n"
     ]
    }
   ],
   "source": [
    "from sklearn.feature_extraction.text import CountVectorizer\n",
    "\n",
    "corpus = [\"I love NLP and deep learning\"]\n",
    "vectorizer = CountVectorizer(ngram_range=(1,2))  # Unigrams and Bigrams\n",
    "X = vectorizer.fit_transform(corpus)\n",
    "\n",
    "print(\"N-Grams:\", vectorizer.get_feature_names_out())\n"
   ]
  },
  {
   "cell_type": "code",
   "execution_count": 4,
   "metadata": {},
   "outputs": [
    {
     "name": "stdout",
     "output_type": "stream",
     "text": [
      "[('I', 'love'), ('I', 'natural'), ('I', 'language'), ('love', 'natural'), ('love', 'language'), ('love', 'processing'), ('natural', 'language'), ('natural', 'processing'), ('language', 'processing')]\n"
     ]
    }
   ],
   "source": [
    "from nltk.util import skipgrams\n",
    "from nltk.tokenize import word_tokenize\n",
    "\n",
    "text = \"I love natural language processing\"\n",
    "tokens = word_tokenize(text)\n",
    "\n",
    "# Generate skip-grams (2-grams with a skip distance of 2)\n",
    "skip_grams = list(skipgrams(tokens, 2, 2))\n",
    "print(skip_grams)\n"
   ]
  },
  {
   "cell_type": "code",
   "execution_count": 5,
   "metadata": {},
   "outputs": [
    {
     "name": "stdout",
     "output_type": "stream",
     "text": [
      "Tokenized Output: [[2, 3, 1]]\n"
     ]
    }
   ],
   "source": [
    "from tensorflow.keras.preprocessing.text import Tokenizer\n",
    "\n",
    "# Define a sample text corpus\n",
    "texts = [\"I love NLP\", \"Deep learning is powerful\"]\n",
    "\n",
    "# Tokenize the text\n",
    "tokenizer = Tokenizer(num_words=10, oov_token=\"<UNK>\")\n",
    "tokenizer.fit_on_texts(texts)\n",
    "\n",
    "# Convert text to sequences\n",
    "sequences = tokenizer.texts_to_sequences([\"I love AI\"])\n",
    "print(\"Tokenized Output:\", sequences)\n"
   ]
  }
 ],
 "metadata": {
  "kernelspec": {
   "display_name": "pyspark_env",
   "language": "python",
   "name": "python3"
  },
  "language_info": {
   "codemirror_mode": {
    "name": "ipython",
    "version": 3
   },
   "file_extension": ".py",
   "mimetype": "text/x-python",
   "name": "python",
   "nbconvert_exporter": "python",
   "pygments_lexer": "ipython3",
   "version": "3.8.20"
  }
 },
 "nbformat": 4,
 "nbformat_minor": 2
}
