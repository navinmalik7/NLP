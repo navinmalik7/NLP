{
 "cells": [
  {
   "cell_type": "markdown",
   "metadata": {},
   "source": [
    "a. Word2Vec with Gensim"
   ]
  },
  {
   "cell_type": "code",
   "execution_count": 2,
   "metadata": {},
   "outputs": [
    {
     "name": "stdout",
     "output_type": "stream",
     "text": [
      "Vector for 'NLP': [-0.00536227  0.00236431  0.0510335   0.09009273 -0.0930295  -0.07116809\n",
      "  0.06458873  0.08972988 -0.05015428 -0.03763372]\n"
     ]
    }
   ],
   "source": [
    "from gensim.models import Word2Vec\n",
    "\n",
    "# Sample sentences\n",
    "sentences = [\n",
    "    [\"I\", \"love\", \"NLP\"],\n",
    "    [\"NLP\", \"is\", \"amazing\"],\n",
    "    [\"I\", \"enjoy\", \"learning\", \"NLP\"]\n",
    "]\n",
    "\n",
    "# Train Word2Vec model\n",
    "model = Word2Vec(sentences, vector_size=10, window=2, min_count=1, sg=1)  # sg=1 for Skip-Gram\n",
    "\n",
    "# Get vector for a word\n",
    "print(\"Vector for 'NLP':\", model.wv['NLP'])"
   ]
  },
  {
   "cell_type": "markdown",
   "metadata": {},
   "source": [
    "b. GloVe with spaCy"
   ]
  },
  {
   "cell_type": "code",
   "execution_count": null,
   "metadata": {},
   "outputs": [
    {
     "name": "stdout",
     "output_type": "stream",
     "text": [
      "Vector for 'king': [-0.11296 -4.1865  -1.8453   0.30781  2.4956 ]\n"
     ]
    },
    {
     "ename": "",
     "evalue": "",
     "output_type": "error",
     "traceback": [
      "\u001b[1;31mThe Kernel crashed while executing code in the current cell or a previous cell. \n",
      "\u001b[1;31mPlease review the code in the cell(s) to identify a possible cause of the failure. \n",
      "\u001b[1;31mClick <a href='https://aka.ms/vscodeJupyterKernelCrash'>here</a> for more info. \n",
      "\u001b[1;31mView Jupyter <a href='command:jupyter.viewOutput'>log</a> for further details."
     ]
    }
   ],
   "source": [
    "import spacy\n",
    "\n",
    "# Load spaCy's medium English model with GloVe embeddings\n",
    "# python -m spacy download en_core_web_md\n",
    "nlp = spacy.load('en_core_web_md')\n",
    "\n",
    "# Get vector for a word\n",
    "word = \"king\"\n",
    "vector = nlp(word).vector\n",
    "print(f\"Vector for '{word}':\", vector[:5])  # Display first 5 dimensions"
   ]
  },
  {
   "cell_type": "markdown",
   "metadata": {},
   "source": [
    "c. FastText with Gensim"
   ]
  },
  {
   "cell_type": "code",
   "execution_count": 4,
   "metadata": {},
   "outputs": [
    {
     "name": "stdout",
     "output_type": "stream",
     "text": [
      "Vector for 'NLP': [-0.00990451  0.0067668  -0.01230775  0.05844905 -0.00347854 -0.01552511\n",
      "  0.012217    0.02907902 -0.00316683  0.01366378]\n"
     ]
    }
   ],
   "source": [
    "from gensim.models import FastText\n",
    "\n",
    "# Sample sentences\n",
    "sentences = [\n",
    "    [\"I\", \"love\", \"NLP\"],\n",
    "    [\"NLP\", \"is\", \"amazing\"],\n",
    "    [\"I\", \"enjoy\", \"learning\", \"NLP\"]\n",
    "]\n",
    "\n",
    "# Train FastText model\n",
    "model = FastText(sentences, vector_size=10, window=2, min_count=1, sg=1)  # sg=1 for Skip-Gram\n",
    "\n",
    "# Get vector for a word\n",
    "print(\"Vector for 'NLP':\", model.wv['NLP'])"
   ]
  }
 ],
 "metadata": {
  "kernelspec": {
   "display_name": "pyspark_env",
   "language": "python",
   "name": "python3"
  },
  "language_info": {
   "codemirror_mode": {
    "name": "ipython",
    "version": 3
   },
   "file_extension": ".py",
   "mimetype": "text/x-python",
   "name": "python",
   "nbconvert_exporter": "python",
   "pygments_lexer": "ipython3",
   "version": "3.8.20"
  }
 },
 "nbformat": 4,
 "nbformat_minor": 2
}
